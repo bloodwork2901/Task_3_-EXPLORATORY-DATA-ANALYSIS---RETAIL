{
 "cells": [
  {
   "cell_type": "markdown",
   "source": [
    "Task 3 :  Exploratory Data Analysis - Retail\r\n",
    "\r\n",
    "Task :Perform ‘Exploratory Data Analysis’ on dataset ‘SampleSuperstore’\r\n",
    "● As a business manager, try to find out the weak areas where you can\r\n",
    "work to make more profit.\r\n",
    "● What all business problems you can derive by exploring the data?\r\n",
    "● You can choose any of the tool of your choice\r\n",
    "(Python/R/Tableau/PowerBI/Excel/SAP/SAS)\r\n",
    "\r\n"
   ],
   "metadata": {}
  },
  {
   "cell_type": "code",
   "execution_count": 1,
   "source": [
    "import seaborn as sns\r\n",
    "import matplotlib.pyplot as plt\r\n",
    "import pandas as pd\r\n",
    "import numpy as np\r\n",
    "%matplotlib inline\r\n"
   ],
   "outputs": [],
   "metadata": {}
  },
  {
   "cell_type": "code",
   "execution_count": 2,
   "source": [
    "df = pd.read_csv(\r\n",
    "    \"https://drive.google.com/file/d/1lV7is1B566UQPYzzY8R2ZmOritTW299S/view\")\r\n",
    "df.head()\r\n"
   ],
   "outputs": [
    {
     "output_type": "execute_result",
     "data": {
      "text/plain": [
       "  <!DOCTYPE html><html><head><meta name=\"google\" content=\"notranslate\"><meta http-equiv=\"X-UA-Compatible\" content=\"IE=edge;\"><style nonce=\"/cTlSvgJPUdrWcuBVao1gA\">@font-face{font-family:'Roboto';font-style:italic;font-weight:400;src:url(//fonts.gstatic.com/s/roboto/v18/KFOkCnqEu92Fr1Mu51xIIzc.ttf)format('truetype');}@font-face{font-family:'Roboto';font-style:normal;font-weight:300;src:url(//fonts.gstatic.com/s/roboto/v18/KFOlCnqEu92Fr1MmSU5fBBc9.ttf)format('truetype');}@font-face{font-family:'Roboto';font-style:normal;font-weight:400;src:url(//fonts.gstatic.com/s/roboto/v18/KFOmCnqEu92Fr1Mu4mxP.ttf)format('truetype');}@font-face{font-family:'Roboto';font-style:normal;font-weight:700;src:url(//fonts.gstatic.com/s/roboto/v18/KFOlCnqEu92Fr1MmWUlfBBc9.ttf)format('truetype');}</style><meta name=\"referrer\" content=\"origin\"><title>SampleSuperstore.csv - Google Drive</title><meta property=\"og:title\" content=\"SampleSuperstore.csv\"><meta property=\"og:type\" content=\"article\"><meta property=\"og:site_name\" content=\"Google Docs\"><meta property=\"og:url\" content=\"https://drive.google.com/file/d/1lV7is1B566UQPYzzY8R2ZmOritTW299S/view?usp=embed_facebook\"><link rel=\"shortcut icon\" href=\"https://ssl.gstatic.com/images/branding/product/1x/drive_2020q4_32dp.png\"><link rel=\"stylesheet\" href=\"https://fonts.googleapis.com/css?family=Google+Sans:300  \\\n",
       "0                                               try{                                                                                                                                                                                                                                                                                                                                                                                                                                                                                                                                                                                                                                                                                                                                                                                                                                                                                                                                                                                                                                                                                                                                                                                                                                                                                                                                                \n",
       "1                                                 /*                                                                                                                                                                                                                                                                                                                                                                                                                                                                                                                                                                                                                                                                                                                                                                                                                                                                                                                                                                                                                                                                                                                                                                                                                                                                                                                                                \n",
       "2             Copyright The Closure Library Authors.                                                                                                                                                                                                                                                                                                                                                                                                                                                                                                                                                                                                                                                                                                                                                                                                                                                                                                                                                                                                                                                                                                                                                                                                                                                                                                                                                \n",
       "3                SPDX-License-Identifier: Apache-2.0                                                                                                                                                                                                                                                                                                                                                                                                                                                                                                                                                                                                                                                                                                                                                                                                                                                                                                                                                                                                                                                                                                                                                                                                                                                                                                                                                \n",
       "4                                                 */                                                                                                                                                                                                                                                                                                                                                                                                                                                                                                                                                                                                                                                                                                                                                                                                                                                                                                                                                                                                                                                                                                                                                                                                                                                                                                                                                \n",
       "\n",
       "   400  500  \\\n",
       "0  NaN  NaN   \n",
       "1  NaN  NaN   \n",
       "2  NaN  NaN   \n",
       "3  NaN  NaN   \n",
       "4  NaN  NaN   \n",
       "\n",
       "  700\" nonce=\"/cTlSvgJPUdrWcuBVao1gA\"><link rel=\"stylesheet\" href=\"https://www.gstatic.com/_/apps-fileview/_/ss/k=apps-fileview.v.mah7ylA7ZOg.L.X.O/am=aA/d=0/rs=AO0039uvbN3GAEzK72W3UF203KIk9l39PA\" nonce=\"/cTlSvgJPUdrWcuBVao1gA\"><script nonce=\"rHrnuwlbgB7HXUnJ6bd6yA\">_docs_flag_initialData={\"docs-ails\":\"docs_cold\"  \\\n",
       "0                                                NaN                                                                                                                                                                                                                                                                         \n",
       "1                                                NaN                                                                                                                                                                                                                                                                         \n",
       "2                                                NaN                                                                                                                                                                                                                                                                         \n",
       "3                                                NaN                                                                                                                                                                                                                                                                         \n",
       "4                                                NaN                                                                                                                                                                                                                                                                         \n",
       "\n",
       "  docs-fwds:\"docs_sdf\" docs-crs:\"docs_crs_nfd\" docs-shdn:0 docs-tfh:\"\"  \\\n",
       "0                  NaN                     NaN         NaN         NaN   \n",
       "1                  NaN                     NaN         NaN         NaN   \n",
       "2                  NaN                     NaN         NaN         NaN   \n",
       "3                  NaN                     NaN         NaN         NaN   \n",
       "4                  NaN                     NaN         NaN         NaN   \n",
       "\n",
       "  info_params:{} docos-eddmh:false  ... null.178 null.179  \\\n",
       "0            NaN               NaN  ...      NaN      NaN   \n",
       "1            NaN               NaN  ...      NaN      NaN   \n",
       "2            NaN               NaN  ...      NaN      NaN   \n",
       "3            NaN               NaN  ...      NaN      NaN   \n",
       "4            NaN               NaN  ...      NaN      NaN   \n",
       "\n",
       "  YpMbYa3RA9bctQarlbbYAw.1 0.70 0].8 [[null.1 null.180 null.181  \\\n",
       "0                      NaN  NaN  NaN      NaN      NaN      NaN   \n",
       "1                      NaN  NaN  NaN      NaN      NaN      NaN   \n",
       "2                      NaN  NaN  NaN      NaN      NaN      NaN   \n",
       "3                      NaN  NaN  NaN      NaN      NaN      NaN   \n",
       "4                      NaN  NaN  NaN      NaN      NaN      NaN   \n",
       "\n",
       "  https://www.gstatic.com/og/_/js/k=og.qtm.en_US.38L9F6mYc1U.O/rt=j/m=qabr,q_dnp,qapid/exm=qaaw,qadd,qaid,qein,qhaw,qhbr,qhch,qhga,qhid,qhin,qhpr/d=1/ed=1/rs=AA2YrTsOqmng0D__mtPtmMyv2hH_VU6AQw]]]]  \\\n",
       "0                                                NaN                                                                                                                                                   \n",
       "1                                                NaN                                                                                                                                                   \n",
       "2                                                NaN                                                                                                                                                   \n",
       "3                                                NaN                                                                                                                                                   \n",
       "4                                                NaN                                                                                                                                                   \n",
       "\n",
       "  };this.gbar_=this.gbar_||{};(function(_){var window=this;  \n",
       "0                                                NaN         \n",
       "1                                                NaN         \n",
       "2                                                NaN         \n",
       "3                                                NaN         \n",
       "4                                                NaN         \n",
       "\n",
       "[5 rows x 709 columns]"
      ],
      "text/html": [
       "<div>\n",
       "<style scoped>\n",
       "    .dataframe tbody tr th:only-of-type {\n",
       "        vertical-align: middle;\n",
       "    }\n",
       "\n",
       "    .dataframe tbody tr th {\n",
       "        vertical-align: top;\n",
       "    }\n",
       "\n",
       "    .dataframe thead th {\n",
       "        text-align: right;\n",
       "    }\n",
       "</style>\n",
       "<table border=\"1\" class=\"dataframe\">\n",
       "  <thead>\n",
       "    <tr style=\"text-align: right;\">\n",
       "      <th></th>\n",
       "      <th>&lt;!DOCTYPE html&gt;&lt;html&gt;&lt;head&gt;&lt;meta name=\"google\" content=\"notranslate\"&gt;&lt;meta http-equiv=\"X-UA-Compatible\" content=\"IE=edge;\"&gt;&lt;style nonce=\"/cTlSvgJPUdrWcuBVao1gA\"&gt;@font-face{font-family:'Roboto';font-style:italic;font-weight:400;src:url(//fonts.gstatic.com/s/roboto/v18/KFOkCnqEu92Fr1Mu51xIIzc.ttf)format('truetype');}@font-face{font-family:'Roboto';font-style:normal;font-weight:300;src:url(//fonts.gstatic.com/s/roboto/v18/KFOlCnqEu92Fr1MmSU5fBBc9.ttf)format('truetype');}@font-face{font-family:'Roboto';font-style:normal;font-weight:400;src:url(//fonts.gstatic.com/s/roboto/v18/KFOmCnqEu92Fr1Mu4mxP.ttf)format('truetype');}@font-face{font-family:'Roboto';font-style:normal;font-weight:700;src:url(//fonts.gstatic.com/s/roboto/v18/KFOlCnqEu92Fr1MmWUlfBBc9.ttf)format('truetype');}&lt;/style&gt;&lt;meta name=\"referrer\" content=\"origin\"&gt;&lt;title&gt;SampleSuperstore.csv - Google Drive&lt;/title&gt;&lt;meta property=\"og:title\" content=\"SampleSuperstore.csv\"&gt;&lt;meta property=\"og:type\" content=\"article\"&gt;&lt;meta property=\"og:site_name\" content=\"Google Docs\"&gt;&lt;meta property=\"og:url\" content=\"https://drive.google.com/file/d/1lV7is1B566UQPYzzY8R2ZmOritTW299S/view?usp=embed_facebook\"&gt;&lt;link rel=\"shortcut icon\" href=\"https://ssl.gstatic.com/images/branding/product/1x/drive_2020q4_32dp.png\"&gt;&lt;link rel=\"stylesheet\" href=\"https://fonts.googleapis.com/css?family=Google+Sans:300</th>\n",
       "      <th>400</th>\n",
       "      <th>500</th>\n",
       "      <th>700\" nonce=\"/cTlSvgJPUdrWcuBVao1gA\"&gt;&lt;link rel=\"stylesheet\" href=\"https://www.gstatic.com/_/apps-fileview/_/ss/k=apps-fileview.v.mah7ylA7ZOg.L.X.O/am=aA/d=0/rs=AO0039uvbN3GAEzK72W3UF203KIk9l39PA\" nonce=\"/cTlSvgJPUdrWcuBVao1gA\"&gt;&lt;script nonce=\"rHrnuwlbgB7HXUnJ6bd6yA\"&gt;_docs_flag_initialData={\"docs-ails\":\"docs_cold\"</th>\n",
       "      <th>docs-fwds:\"docs_sdf\"</th>\n",
       "      <th>docs-crs:\"docs_crs_nfd\"</th>\n",
       "      <th>docs-shdn:0</th>\n",
       "      <th>docs-tfh:\"\"</th>\n",
       "      <th>info_params:{}</th>\n",
       "      <th>docos-eddmh:false</th>\n",
       "      <th>...</th>\n",
       "      <th>null.178</th>\n",
       "      <th>null.179</th>\n",
       "      <th>YpMbYa3RA9bctQarlbbYAw.1</th>\n",
       "      <th>0.70</th>\n",
       "      <th>0].8</th>\n",
       "      <th>[[null.1</th>\n",
       "      <th>null.180</th>\n",
       "      <th>null.181</th>\n",
       "      <th>https://www.gstatic.com/og/_/js/k=og.qtm.en_US.38L9F6mYc1U.O/rt=j/m=qabr,q_dnp,qapid/exm=qaaw,qadd,qaid,qein,qhaw,qhbr,qhch,qhga,qhid,qhin,qhpr/d=1/ed=1/rs=AA2YrTsOqmng0D__mtPtmMyv2hH_VU6AQw]]]]</th>\n",
       "      <th>};this.gbar_=this.gbar_||{};(function(_){var window=this;</th>\n",
       "    </tr>\n",
       "  </thead>\n",
       "  <tbody>\n",
       "    <tr>\n",
       "      <th>0</th>\n",
       "      <td>try{</td>\n",
       "      <td>NaN</td>\n",
       "      <td>NaN</td>\n",
       "      <td>NaN</td>\n",
       "      <td>NaN</td>\n",
       "      <td>NaN</td>\n",
       "      <td>NaN</td>\n",
       "      <td>NaN</td>\n",
       "      <td>NaN</td>\n",
       "      <td>NaN</td>\n",
       "      <td>...</td>\n",
       "      <td>NaN</td>\n",
       "      <td>NaN</td>\n",
       "      <td>NaN</td>\n",
       "      <td>NaN</td>\n",
       "      <td>NaN</td>\n",
       "      <td>NaN</td>\n",
       "      <td>NaN</td>\n",
       "      <td>NaN</td>\n",
       "      <td>NaN</td>\n",
       "      <td>NaN</td>\n",
       "    </tr>\n",
       "    <tr>\n",
       "      <th>1</th>\n",
       "      <td>/*</td>\n",
       "      <td>NaN</td>\n",
       "      <td>NaN</td>\n",
       "      <td>NaN</td>\n",
       "      <td>NaN</td>\n",
       "      <td>NaN</td>\n",
       "      <td>NaN</td>\n",
       "      <td>NaN</td>\n",
       "      <td>NaN</td>\n",
       "      <td>NaN</td>\n",
       "      <td>...</td>\n",
       "      <td>NaN</td>\n",
       "      <td>NaN</td>\n",
       "      <td>NaN</td>\n",
       "      <td>NaN</td>\n",
       "      <td>NaN</td>\n",
       "      <td>NaN</td>\n",
       "      <td>NaN</td>\n",
       "      <td>NaN</td>\n",
       "      <td>NaN</td>\n",
       "      <td>NaN</td>\n",
       "    </tr>\n",
       "    <tr>\n",
       "      <th>2</th>\n",
       "      <td>Copyright The Closure Library Authors.</td>\n",
       "      <td>NaN</td>\n",
       "      <td>NaN</td>\n",
       "      <td>NaN</td>\n",
       "      <td>NaN</td>\n",
       "      <td>NaN</td>\n",
       "      <td>NaN</td>\n",
       "      <td>NaN</td>\n",
       "      <td>NaN</td>\n",
       "      <td>NaN</td>\n",
       "      <td>...</td>\n",
       "      <td>NaN</td>\n",
       "      <td>NaN</td>\n",
       "      <td>NaN</td>\n",
       "      <td>NaN</td>\n",
       "      <td>NaN</td>\n",
       "      <td>NaN</td>\n",
       "      <td>NaN</td>\n",
       "      <td>NaN</td>\n",
       "      <td>NaN</td>\n",
       "      <td>NaN</td>\n",
       "    </tr>\n",
       "    <tr>\n",
       "      <th>3</th>\n",
       "      <td>SPDX-License-Identifier: Apache-2.0</td>\n",
       "      <td>NaN</td>\n",
       "      <td>NaN</td>\n",
       "      <td>NaN</td>\n",
       "      <td>NaN</td>\n",
       "      <td>NaN</td>\n",
       "      <td>NaN</td>\n",
       "      <td>NaN</td>\n",
       "      <td>NaN</td>\n",
       "      <td>NaN</td>\n",
       "      <td>...</td>\n",
       "      <td>NaN</td>\n",
       "      <td>NaN</td>\n",
       "      <td>NaN</td>\n",
       "      <td>NaN</td>\n",
       "      <td>NaN</td>\n",
       "      <td>NaN</td>\n",
       "      <td>NaN</td>\n",
       "      <td>NaN</td>\n",
       "      <td>NaN</td>\n",
       "      <td>NaN</td>\n",
       "    </tr>\n",
       "    <tr>\n",
       "      <th>4</th>\n",
       "      <td>*/</td>\n",
       "      <td>NaN</td>\n",
       "      <td>NaN</td>\n",
       "      <td>NaN</td>\n",
       "      <td>NaN</td>\n",
       "      <td>NaN</td>\n",
       "      <td>NaN</td>\n",
       "      <td>NaN</td>\n",
       "      <td>NaN</td>\n",
       "      <td>NaN</td>\n",
       "      <td>...</td>\n",
       "      <td>NaN</td>\n",
       "      <td>NaN</td>\n",
       "      <td>NaN</td>\n",
       "      <td>NaN</td>\n",
       "      <td>NaN</td>\n",
       "      <td>NaN</td>\n",
       "      <td>NaN</td>\n",
       "      <td>NaN</td>\n",
       "      <td>NaN</td>\n",
       "      <td>NaN</td>\n",
       "    </tr>\n",
       "  </tbody>\n",
       "</table>\n",
       "<p>5 rows × 709 columns</p>\n",
       "</div>"
      ]
     },
     "metadata": {},
     "execution_count": 2
    }
   ],
   "metadata": {}
  },
  {
   "cell_type": "code",
   "execution_count": 10,
   "source": [
    "df.info()\r\n"
   ],
   "outputs": [
    {
     "output_type": "stream",
     "name": "stdout",
     "text": [
      "<class 'pandas.core.frame.DataFrame'>\n",
      "RangeIndex: 173 entries, 0 to 172\n",
      "Columns: 709 entries, <!DOCTYPE html><html><head><meta name=\"google\" content=\"notranslate\"><meta http-equiv=\"X-UA-Compatible\" content=\"IE=edge;\"><style nonce=\"/cTlSvgJPUdrWcuBVao1gA\">@font-face{font-family:'Roboto';font-style:italic;font-weight:400;src:url(//fonts.gstatic.com/s/roboto/v18/KFOkCnqEu92Fr1Mu51xIIzc.ttf)format('truetype');}@font-face{font-family:'Roboto';font-style:normal;font-weight:300;src:url(//fonts.gstatic.com/s/roboto/v18/KFOlCnqEu92Fr1MmSU5fBBc9.ttf)format('truetype');}@font-face{font-family:'Roboto';font-style:normal;font-weight:400;src:url(//fonts.gstatic.com/s/roboto/v18/KFOmCnqEu92Fr1Mu4mxP.ttf)format('truetype');}@font-face{font-family:'Roboto';font-style:normal;font-weight:700;src:url(//fonts.gstatic.com/s/roboto/v18/KFOlCnqEu92Fr1MmWUlfBBc9.ttf)format('truetype');}</style><meta name=\"referrer\" content=\"origin\"><title>SampleSuperstore.csv - Google Drive</title><meta property=\"og:title\" content=\"SampleSuperstore.csv\"><meta property=\"og:type\" content=\"article\"><meta property=\"og:site_name\" content=\"Google Docs\"><meta property=\"og:url\" content=\"https://drive.google.com/file/d/1lV7is1B566UQPYzzY8R2ZmOritTW299S/view?usp=embed_facebook\"><link rel=\"shortcut icon\" href=\"https://ssl.gstatic.com/images/branding/product/1x/drive_2020q4_32dp.png\"><link rel=\"stylesheet\" href=\"https://fonts.googleapis.com/css?family=Google+Sans:300 to };this.gbar_=this.gbar_||{};(function(_){var window=this;\n",
      "dtypes: float64(509), object(200)\n",
      "memory usage: 958.4+ KB\n"
     ]
    }
   ],
   "metadata": {}
  },
  {
   "cell_type": "code",
   "execution_count": 11,
   "source": [
    "\r\n",
    "df.isnull().sum()\r\n"
   ],
   "outputs": [
    {
     "output_type": "execute_result",
     "data": {
      "text/plain": [
       "<!DOCTYPE html><html><head><meta name=\"google\" content=\"notranslate\"><meta http-equiv=\"X-UA-Compatible\" content=\"IE=edge;\"><style nonce=\"/cTlSvgJPUdrWcuBVao1gA\">@font-face{font-family:'Roboto';font-style:italic;font-weight:400;src:url(//fonts.gstatic.com/s/roboto/v18/KFOkCnqEu92Fr1Mu51xIIzc.ttf)format('truetype');}@font-face{font-family:'Roboto';font-style:normal;font-weight:300;src:url(//fonts.gstatic.com/s/roboto/v18/KFOlCnqEu92Fr1MmSU5fBBc9.ttf)format('truetype');}@font-face{font-family:'Roboto';font-style:normal;font-weight:400;src:url(//fonts.gstatic.com/s/roboto/v18/KFOmCnqEu92Fr1Mu4mxP.ttf)format('truetype');}@font-face{font-family:'Roboto';font-style:normal;font-weight:700;src:url(//fonts.gstatic.com/s/roboto/v18/KFOlCnqEu92Fr1MmWUlfBBc9.ttf)format('truetype');}</style><meta name=\"referrer\" content=\"origin\"><title>SampleSuperstore.csv - Google Drive</title><meta property=\"og:title\" content=\"SampleSuperstore.csv\"><meta property=\"og:type\" content=\"article\"><meta property=\"og:site_name\" content=\"Google Docs\"><meta property=\"og:url\" content=\"https://drive.google.com/file/d/1lV7is1B566UQPYzzY8R2ZmOritTW299S/view?usp=embed_facebook\"><link rel=\"shortcut icon\" href=\"https://ssl.gstatic.com/images/branding/product/1x/drive_2020q4_32dp.png\"><link rel=\"stylesheet\" href=\"https://fonts.googleapis.com/css?family=Google+Sans:300      0\n",
       "400                                                                                                                                                                                                                                                                                                                                                                                                                                                                                                                                                                                                                                                                                                                                                                                                                                                                                                                                                                                                                                                                                                                                                                                                                                                                                                                                                                                                 62\n",
       "500                                                                                                                                                                                                                                                                                                                                                                                                                                                                                                                                                                                                                                                                                                                                                                                                                                                                                                                                                                                                                                                                                                                                                                                                                                                                                                                                                                                                 73\n",
       "700\" nonce=\"/cTlSvgJPUdrWcuBVao1gA\"><link rel=\"stylesheet\" href=\"https://www.gstatic.com/_/apps-fileview/_/ss/k=apps-fileview.v.mah7ylA7ZOg.L.X.O/am=aA/d=0/rs=AO0039uvbN3GAEzK72W3UF203KIk9l39PA\" nonce=\"/cTlSvgJPUdrWcuBVao1gA\"><script nonce=\"rHrnuwlbgB7HXUnJ6bd6yA\">_docs_flag_initialData={\"docs-ails\":\"docs_cold\"                                                                                                                                                                                                                                                                                                                                                                                                                                                                                                                                                                                                                                                                                                                                                                                                                                                                                                                                                                                                                                                                            95\n",
       "docs-fwds:\"docs_sdf\"                                                                                                                                                                                                                                                                                                                                                                                                                                                                                                                                                                                                                                                                                                                                                                                                                                                                                                                                                                                                                                                                                                                                                                                                                                                                                                                                                                               104\n",
       "                                                                                                                                                                                                                                                                                                                                                                                                                                                                                                                                                                                                                                                                                                                                                                                                                                                                                                                                                                                                                                                                                                                                                                                                                                                                                                                                                                                                  ... \n",
       "[[null.1                                                                                                                                                                                                                                                                                                                                                                                                                                                                                                                                                                                                                                                                                                                                                                                                                                                                                                                                                                                                                                                                                                                                                                                                                                                                                                                                                                                           173\n",
       "null.180                                                                                                                                                                                                                                                                                                                                                                                                                                                                                                                                                                                                                                                                                                                                                                                                                                                                                                                                                                                                                                                                                                                                                                                                                                                                                                                                                                                           173\n",
       "null.181                                                                                                                                                                                                                                                                                                                                                                                                                                                                                                                                                                                                                                                                                                                                                                                                                                                                                                                                                                                                                                                                                                                                                                                                                                                                                                                                                                                           173\n",
       "https://www.gstatic.com/og/_/js/k=og.qtm.en_US.38L9F6mYc1U.O/rt=j/m=qabr,q_dnp,qapid/exm=qaaw,qadd,qaid,qein,qhaw,qhbr,qhch,qhga,qhid,qhin,qhpr/d=1/ed=1/rs=AA2YrTsOqmng0D__mtPtmMyv2hH_VU6AQw]]]]                                                                                                                                                                                                                                                                                                                                                                                                                                                                                                                                                                                                                                                                                                                                                                                                                                                                                                                                                                                                                                                                                                                                                                                                 173\n",
       "};this.gbar_=this.gbar_||{};(function(_){var window=this;                                                                                                                                                                                                                                                                                                                                                                                                                                                                                                                                                                                                                                                                                                                                                                                                                                                                                                                                                                                                                                                                                                                                                                                                                                                                                                                                          173\n",
       "Length: 709, dtype: int64"
      ]
     },
     "metadata": {},
     "execution_count": 11
    }
   ],
   "metadata": {}
  },
  {
   "cell_type": "code",
   "execution_count": 12,
   "source": [
    "df.columns\r\n"
   ],
   "outputs": [
    {
     "output_type": "execute_result",
     "data": {
      "text/plain": [
       "Index(['<!DOCTYPE html><html><head><meta name=\"google\" content=\"notranslate\"><meta http-equiv=\"X-UA-Compatible\" content=\"IE=edge;\"><style nonce=\"/cTlSvgJPUdrWcuBVao1gA\">@font-face{font-family:'Roboto';font-style:italic;font-weight:400;src:url(//fonts.gstatic.com/s/roboto/v18/KFOkCnqEu92Fr1Mu51xIIzc.ttf)format('truetype');}@font-face{font-family:'Roboto';font-style:normal;font-weight:300;src:url(//fonts.gstatic.com/s/roboto/v18/KFOlCnqEu92Fr1MmSU5fBBc9.ttf)format('truetype');}@font-face{font-family:'Roboto';font-style:normal;font-weight:400;src:url(//fonts.gstatic.com/s/roboto/v18/KFOmCnqEu92Fr1Mu4mxP.ttf)format('truetype');}@font-face{font-family:'Roboto';font-style:normal;font-weight:700;src:url(//fonts.gstatic.com/s/roboto/v18/KFOlCnqEu92Fr1MmWUlfBBc9.ttf)format('truetype');}</style><meta name=\"referrer\" content=\"origin\"><title>SampleSuperstore.csv - Google Drive</title><meta property=\"og:title\" content=\"SampleSuperstore.csv\"><meta property=\"og:type\" content=\"article\"><meta property=\"og:site_name\" content=\"Google Docs\"><meta property=\"og:url\" content=\"https://drive.google.com/file/d/1lV7is1B566UQPYzzY8R2ZmOritTW299S/view?usp=embed_facebook\"><link rel=\"shortcut icon\" href=\"https://ssl.gstatic.com/images/branding/product/1x/drive_2020q4_32dp.png\"><link rel=\"stylesheet\" href=\"https://fonts.googleapis.com/css?family=Google+Sans:300',\n",
       "       '400', '500',\n",
       "       '700\" nonce=\"/cTlSvgJPUdrWcuBVao1gA\"><link rel=\"stylesheet\" href=\"https://www.gstatic.com/_/apps-fileview/_/ss/k=apps-fileview.v.mah7ylA7ZOg.L.X.O/am=aA/d=0/rs=AO0039uvbN3GAEzK72W3UF203KIk9l39PA\" nonce=\"/cTlSvgJPUdrWcuBVao1gA\"><script nonce=\"rHrnuwlbgB7HXUnJ6bd6yA\">_docs_flag_initialData={\"docs-ails\":\"docs_cold\"',\n",
       "       'docs-fwds:\"docs_sdf\"', 'docs-crs:\"docs_crs_nfd\"', 'docs-shdn:0',\n",
       "       'docs-tfh:\"\"', 'info_params:{}', 'docos-eddmh:false',\n",
       "       ...\n",
       "       'null.178', 'null.179', 'YpMbYa3RA9bctQarlbbYAw.1', '0.70', '0].8',\n",
       "       '[[null.1', 'null.180', 'null.181',\n",
       "       'https://www.gstatic.com/og/_/js/k=og.qtm.en_US.38L9F6mYc1U.O/rt=j/m=qabr,q_dnp,qapid/exm=qaaw,qadd,qaid,qein,qhaw,qhbr,qhch,qhga,qhid,qhin,qhpr/d=1/ed=1/rs=AA2YrTsOqmng0D__mtPtmMyv2hH_VU6AQw]]]]',\n",
       "       '};this.gbar_=this.gbar_||{};(function(_){var window=this;'],\n",
       "      dtype='object', length=709)"
      ]
     },
     "metadata": {},
     "execution_count": 12
    }
   ],
   "metadata": {}
  },
  {
   "cell_type": "code",
   "execution_count": 13,
   "source": [
    "df.shape\r\n"
   ],
   "outputs": [
    {
     "output_type": "execute_result",
     "data": {
      "text/plain": [
       "(173, 709)"
      ]
     },
     "metadata": {},
     "execution_count": 13
    }
   ],
   "metadata": {}
  },
  {
   "cell_type": "code",
   "execution_count": 14,
   "source": [
    "df.nunique()\r\n"
   ],
   "outputs": [
    {
     "output_type": "execute_result",
     "data": {
      "text/plain": [
       "<!DOCTYPE html><html><head><meta name=\"google\" content=\"notranslate\"><meta http-equiv=\"X-UA-Compatible\" content=\"IE=edge;\"><style nonce=\"/cTlSvgJPUdrWcuBVao1gA\">@font-face{font-family:'Roboto';font-style:italic;font-weight:400;src:url(//fonts.gstatic.com/s/roboto/v18/KFOkCnqEu92Fr1Mu51xIIzc.ttf)format('truetype');}@font-face{font-family:'Roboto';font-style:normal;font-weight:300;src:url(//fonts.gstatic.com/s/roboto/v18/KFOlCnqEu92Fr1MmSU5fBBc9.ttf)format('truetype');}@font-face{font-family:'Roboto';font-style:normal;font-weight:400;src:url(//fonts.gstatic.com/s/roboto/v18/KFOmCnqEu92Fr1Mu4mxP.ttf)format('truetype');}@font-face{font-family:'Roboto';font-style:normal;font-weight:700;src:url(//fonts.gstatic.com/s/roboto/v18/KFOlCnqEu92Fr1MmWUlfBBc9.ttf)format('truetype');}</style><meta name=\"referrer\" content=\"origin\"><title>SampleSuperstore.csv - Google Drive</title><meta property=\"og:title\" content=\"SampleSuperstore.csv\"><meta property=\"og:type\" content=\"article\"><meta property=\"og:site_name\" content=\"Google Docs\"><meta property=\"og:url\" content=\"https://drive.google.com/file/d/1lV7is1B566UQPYzzY8R2ZmOritTW299S/view?usp=embed_facebook\"><link rel=\"shortcut icon\" href=\"https://ssl.gstatic.com/images/branding/product/1x/drive_2020q4_32dp.png\"><link rel=\"stylesheet\" href=\"https://fonts.googleapis.com/css?family=Google+Sans:300    137\n",
       "400                                                                                                                                                                                                                                                                                                                                                                                                                                                                                                                                                                                                                                                                                                                                                                                                                                                                                                                                                                                                                                                                                                                                                                                                                                                                                                                                                                                                 92\n",
       "500                                                                                                                                                                                                                                                                                                                                                                                                                                                                                                                                                                                                                                                                                                                                                                                                                                                                                                                                                                                                                                                                                                                                                                                                                                                                                                                                                                                                 86\n",
       "700\" nonce=\"/cTlSvgJPUdrWcuBVao1gA\"><link rel=\"stylesheet\" href=\"https://www.gstatic.com/_/apps-fileview/_/ss/k=apps-fileview.v.mah7ylA7ZOg.L.X.O/am=aA/d=0/rs=AO0039uvbN3GAEzK72W3UF203KIk9l39PA\" nonce=\"/cTlSvgJPUdrWcuBVao1gA\"><script nonce=\"rHrnuwlbgB7HXUnJ6bd6yA\">_docs_flag_initialData={\"docs-ails\":\"docs_cold\"                                                                                                                                                                                                                                                                                                                                                                                                                                                                                                                                                                                                                                                                                                                                                                                                                                                                                                                                                                                                                                                                            70\n",
       "docs-fwds:\"docs_sdf\"                                                                                                                                                                                                                                                                                                                                                                                                                                                                                                                                                                                                                                                                                                                                                                                                                                                                                                                                                                                                                                                                                                                                                                                                                                                                                                                                                                                64\n",
       "                                                                                                                                                                                                                                                                                                                                                                                                                                                                                                                                                                                                                                                                                                                                                                                                                                                                                                                                                                                                                                                                                                                                                                                                                                                                                                                                                                                                  ... \n",
       "[[null.1                                                                                                                                                                                                                                                                                                                                                                                                                                                                                                                                                                                                                                                                                                                                                                                                                                                                                                                                                                                                                                                                                                                                                                                                                                                                                                                                                                                             0\n",
       "null.180                                                                                                                                                                                                                                                                                                                                                                                                                                                                                                                                                                                                                                                                                                                                                                                                                                                                                                                                                                                                                                                                                                                                                                                                                                                                                                                                                                                             0\n",
       "null.181                                                                                                                                                                                                                                                                                                                                                                                                                                                                                                                                                                                                                                                                                                                                                                                                                                                                                                                                                                                                                                                                                                                                                                                                                                                                                                                                                                                             0\n",
       "https://www.gstatic.com/og/_/js/k=og.qtm.en_US.38L9F6mYc1U.O/rt=j/m=qabr,q_dnp,qapid/exm=qaaw,qadd,qaid,qein,qhaw,qhbr,qhch,qhga,qhid,qhin,qhpr/d=1/ed=1/rs=AA2YrTsOqmng0D__mtPtmMyv2hH_VU6AQw]]]]                                                                                                                                                                                                                                                                                                                                                                                                                                                                                                                                                                                                                                                                                                                                                                                                                                                                                                                                                                                                                                                                                                                                                                                                   0\n",
       "};this.gbar_=this.gbar_||{};(function(_){var window=this;                                                                                                                                                                                                                                                                                                                                                                                                                                                                                                                                                                                                                                                                                                                                                                                                                                                                                                                                                                                                                                                                                                                                                                                                                                                                                                                                            0\n",
       "Length: 709, dtype: int64"
      ]
     },
     "metadata": {},
     "execution_count": 14
    }
   ],
   "metadata": {}
  },
  {
   "cell_type": "markdown",
   "source": [
    "Exploratory Data Analysis"
   ],
   "metadata": {}
  },
  {
   "cell_type": "code",
   "execution_count": 18,
   "source": [
    "plt.figure(figsize=(8, 5))\r\n",
    "sns.kdeplot(df['Sales'], color='red', label='Sales', shade=True, bw=25)\r\n",
    "sns.kdeplot(df['Profit'], color='Blue', label='Profit', shade=True, bw=25)\r\n",
    "plt.xlim([-100, 1000])\r\n",
    "plt.legend()\r\n"
   ],
   "outputs": [
    {
     "output_type": "error",
     "ename": "KeyError",
     "evalue": "'Sales'",
     "traceback": [
      "\u001b[1;31m---------------------------------------------------------------------------\u001b[0m",
      "\u001b[1;31mKeyError\u001b[0m                                  Traceback (most recent call last)",
      "\u001b[1;32m~\\AppData\\Local\\Programs\\Python\\Python38\\lib\\site-packages\\pandas\\core\\indexes\\base.py\u001b[0m in \u001b[0;36mget_loc\u001b[1;34m(self, key, method, tolerance)\u001b[0m\n\u001b[0;32m   2894\u001b[0m             \u001b[1;32mtry\u001b[0m\u001b[1;33m:\u001b[0m\u001b[1;33m\u001b[0m\u001b[1;33m\u001b[0m\u001b[0m\n\u001b[1;32m-> 2895\u001b[1;33m                 \u001b[1;32mreturn\u001b[0m \u001b[0mself\u001b[0m\u001b[1;33m.\u001b[0m\u001b[0m_engine\u001b[0m\u001b[1;33m.\u001b[0m\u001b[0mget_loc\u001b[0m\u001b[1;33m(\u001b[0m\u001b[0mcasted_key\u001b[0m\u001b[1;33m)\u001b[0m\u001b[1;33m\u001b[0m\u001b[1;33m\u001b[0m\u001b[0m\n\u001b[0m\u001b[0;32m   2896\u001b[0m             \u001b[1;32mexcept\u001b[0m \u001b[0mKeyError\u001b[0m \u001b[1;32mas\u001b[0m \u001b[0merr\u001b[0m\u001b[1;33m:\u001b[0m\u001b[1;33m\u001b[0m\u001b[1;33m\u001b[0m\u001b[0m\n",
      "\u001b[1;32mpandas\\_libs\\index.pyx\u001b[0m in \u001b[0;36mpandas._libs.index.IndexEngine.get_loc\u001b[1;34m()\u001b[0m\n",
      "\u001b[1;32mpandas\\_libs\\index.pyx\u001b[0m in \u001b[0;36mpandas._libs.index.IndexEngine.get_loc\u001b[1;34m()\u001b[0m\n",
      "\u001b[1;32mpandas\\_libs\\hashtable_class_helper.pxi\u001b[0m in \u001b[0;36mpandas._libs.hashtable.PyObjectHashTable.get_item\u001b[1;34m()\u001b[0m\n",
      "\u001b[1;32mpandas\\_libs\\hashtable_class_helper.pxi\u001b[0m in \u001b[0;36mpandas._libs.hashtable.PyObjectHashTable.get_item\u001b[1;34m()\u001b[0m\n",
      "\u001b[1;31mKeyError\u001b[0m: 'Sales'",
      "\nThe above exception was the direct cause of the following exception:\n",
      "\u001b[1;31mKeyError\u001b[0m                                  Traceback (most recent call last)",
      "\u001b[1;32m<ipython-input-18-ca75d8444f9c>\u001b[0m in \u001b[0;36m<module>\u001b[1;34m\u001b[0m\n\u001b[0;32m      1\u001b[0m \u001b[0mplt\u001b[0m\u001b[1;33m.\u001b[0m\u001b[0mfigure\u001b[0m\u001b[1;33m(\u001b[0m\u001b[0mfigsize\u001b[0m\u001b[1;33m=\u001b[0m\u001b[1;33m(\u001b[0m\u001b[1;36m8\u001b[0m\u001b[1;33m,\u001b[0m \u001b[1;36m5\u001b[0m\u001b[1;33m)\u001b[0m\u001b[1;33m)\u001b[0m\u001b[1;33m\u001b[0m\u001b[1;33m\u001b[0m\u001b[0m\n\u001b[1;32m----> 2\u001b[1;33m \u001b[0msns\u001b[0m\u001b[1;33m.\u001b[0m\u001b[0mkdeplot\u001b[0m\u001b[1;33m(\u001b[0m\u001b[0mdf\u001b[0m\u001b[1;33m[\u001b[0m\u001b[1;34m'Sales'\u001b[0m\u001b[1;33m]\u001b[0m\u001b[1;33m,\u001b[0m \u001b[0mcolor\u001b[0m\u001b[1;33m=\u001b[0m\u001b[1;34m'red'\u001b[0m\u001b[1;33m,\u001b[0m \u001b[0mlabel\u001b[0m\u001b[1;33m=\u001b[0m\u001b[1;34m'Sales'\u001b[0m\u001b[1;33m,\u001b[0m \u001b[0mshade\u001b[0m\u001b[1;33m=\u001b[0m\u001b[1;32mTrue\u001b[0m\u001b[1;33m,\u001b[0m \u001b[0mbw\u001b[0m\u001b[1;33m=\u001b[0m\u001b[1;36m25\u001b[0m\u001b[1;33m)\u001b[0m\u001b[1;33m\u001b[0m\u001b[1;33m\u001b[0m\u001b[0m\n\u001b[0m\u001b[0;32m      3\u001b[0m \u001b[0msns\u001b[0m\u001b[1;33m.\u001b[0m\u001b[0mkdeplot\u001b[0m\u001b[1;33m(\u001b[0m\u001b[0mdf\u001b[0m\u001b[1;33m[\u001b[0m\u001b[1;34m'Profit'\u001b[0m\u001b[1;33m]\u001b[0m\u001b[1;33m,\u001b[0m \u001b[0mcolor\u001b[0m\u001b[1;33m=\u001b[0m\u001b[1;34m'Blue'\u001b[0m\u001b[1;33m,\u001b[0m \u001b[0mlabel\u001b[0m\u001b[1;33m=\u001b[0m\u001b[1;34m'Profit'\u001b[0m\u001b[1;33m,\u001b[0m \u001b[0mshade\u001b[0m\u001b[1;33m=\u001b[0m\u001b[1;32mTrue\u001b[0m\u001b[1;33m,\u001b[0m \u001b[0mbw\u001b[0m\u001b[1;33m=\u001b[0m\u001b[1;36m25\u001b[0m\u001b[1;33m)\u001b[0m\u001b[1;33m\u001b[0m\u001b[1;33m\u001b[0m\u001b[0m\n\u001b[0;32m      4\u001b[0m \u001b[0mplt\u001b[0m\u001b[1;33m.\u001b[0m\u001b[0mxlim\u001b[0m\u001b[1;33m(\u001b[0m\u001b[1;33m[\u001b[0m\u001b[1;33m-\u001b[0m\u001b[1;36m100\u001b[0m\u001b[1;33m,\u001b[0m \u001b[1;36m1000\u001b[0m\u001b[1;33m]\u001b[0m\u001b[1;33m)\u001b[0m\u001b[1;33m\u001b[0m\u001b[1;33m\u001b[0m\u001b[0m\n\u001b[0;32m      5\u001b[0m \u001b[0mplt\u001b[0m\u001b[1;33m.\u001b[0m\u001b[0mlegend\u001b[0m\u001b[1;33m(\u001b[0m\u001b[1;33m)\u001b[0m\u001b[1;33m\u001b[0m\u001b[1;33m\u001b[0m\u001b[0m\n",
      "\u001b[1;32m~\\AppData\\Local\\Programs\\Python\\Python38\\lib\\site-packages\\pandas\\core\\frame.py\u001b[0m in \u001b[0;36m__getitem__\u001b[1;34m(self, key)\u001b[0m\n\u001b[0;32m   2900\u001b[0m             \u001b[1;32mif\u001b[0m \u001b[0mself\u001b[0m\u001b[1;33m.\u001b[0m\u001b[0mcolumns\u001b[0m\u001b[1;33m.\u001b[0m\u001b[0mnlevels\u001b[0m \u001b[1;33m>\u001b[0m \u001b[1;36m1\u001b[0m\u001b[1;33m:\u001b[0m\u001b[1;33m\u001b[0m\u001b[1;33m\u001b[0m\u001b[0m\n\u001b[0;32m   2901\u001b[0m                 \u001b[1;32mreturn\u001b[0m \u001b[0mself\u001b[0m\u001b[1;33m.\u001b[0m\u001b[0m_getitem_multilevel\u001b[0m\u001b[1;33m(\u001b[0m\u001b[0mkey\u001b[0m\u001b[1;33m)\u001b[0m\u001b[1;33m\u001b[0m\u001b[1;33m\u001b[0m\u001b[0m\n\u001b[1;32m-> 2902\u001b[1;33m             \u001b[0mindexer\u001b[0m \u001b[1;33m=\u001b[0m \u001b[0mself\u001b[0m\u001b[1;33m.\u001b[0m\u001b[0mcolumns\u001b[0m\u001b[1;33m.\u001b[0m\u001b[0mget_loc\u001b[0m\u001b[1;33m(\u001b[0m\u001b[0mkey\u001b[0m\u001b[1;33m)\u001b[0m\u001b[1;33m\u001b[0m\u001b[1;33m\u001b[0m\u001b[0m\n\u001b[0m\u001b[0;32m   2903\u001b[0m             \u001b[1;32mif\u001b[0m \u001b[0mis_integer\u001b[0m\u001b[1;33m(\u001b[0m\u001b[0mindexer\u001b[0m\u001b[1;33m)\u001b[0m\u001b[1;33m:\u001b[0m\u001b[1;33m\u001b[0m\u001b[1;33m\u001b[0m\u001b[0m\n\u001b[0;32m   2904\u001b[0m                 \u001b[0mindexer\u001b[0m \u001b[1;33m=\u001b[0m \u001b[1;33m[\u001b[0m\u001b[0mindexer\u001b[0m\u001b[1;33m]\u001b[0m\u001b[1;33m\u001b[0m\u001b[1;33m\u001b[0m\u001b[0m\n",
      "\u001b[1;32m~\\AppData\\Local\\Programs\\Python\\Python38\\lib\\site-packages\\pandas\\core\\indexes\\base.py\u001b[0m in \u001b[0;36mget_loc\u001b[1;34m(self, key, method, tolerance)\u001b[0m\n\u001b[0;32m   2895\u001b[0m                 \u001b[1;32mreturn\u001b[0m \u001b[0mself\u001b[0m\u001b[1;33m.\u001b[0m\u001b[0m_engine\u001b[0m\u001b[1;33m.\u001b[0m\u001b[0mget_loc\u001b[0m\u001b[1;33m(\u001b[0m\u001b[0mcasted_key\u001b[0m\u001b[1;33m)\u001b[0m\u001b[1;33m\u001b[0m\u001b[1;33m\u001b[0m\u001b[0m\n\u001b[0;32m   2896\u001b[0m             \u001b[1;32mexcept\u001b[0m \u001b[0mKeyError\u001b[0m \u001b[1;32mas\u001b[0m \u001b[0merr\u001b[0m\u001b[1;33m:\u001b[0m\u001b[1;33m\u001b[0m\u001b[1;33m\u001b[0m\u001b[0m\n\u001b[1;32m-> 2897\u001b[1;33m                 \u001b[1;32mraise\u001b[0m \u001b[0mKeyError\u001b[0m\u001b[1;33m(\u001b[0m\u001b[0mkey\u001b[0m\u001b[1;33m)\u001b[0m \u001b[1;32mfrom\u001b[0m \u001b[0merr\u001b[0m\u001b[1;33m\u001b[0m\u001b[1;33m\u001b[0m\u001b[0m\n\u001b[0m\u001b[0;32m   2898\u001b[0m \u001b[1;33m\u001b[0m\u001b[0m\n\u001b[0;32m   2899\u001b[0m         \u001b[1;32mif\u001b[0m \u001b[0mtolerance\u001b[0m \u001b[1;32mis\u001b[0m \u001b[1;32mnot\u001b[0m \u001b[1;32mNone\u001b[0m\u001b[1;33m:\u001b[0m\u001b[1;33m\u001b[0m\u001b[1;33m\u001b[0m\u001b[0m\n",
      "\u001b[1;31mKeyError\u001b[0m: 'Sales'"
     ]
    },
    {
     "output_type": "display_data",
     "data": {
      "text/plain": [
       "<Figure size 576x360 with 0 Axes>"
      ]
     },
     "metadata": {}
    }
   ],
   "metadata": {}
  },
  {
   "cell_type": "markdown",
   "source": [
    "\r\n",
    "Analysis using Pairplot of each column\r\n",
    "[1] Based on the Catagory"
   ],
   "metadata": {}
  },
  {
   "cell_type": "code",
   "execution_count": null,
   "source": [
    "sns.pairplot(df, hue='Category')\r\n"
   ],
   "outputs": [],
   "metadata": {}
  },
  {
   "cell_type": "markdown",
   "source": [
    "\r\n",
    "[2] Based on Region"
   ],
   "metadata": {}
  },
  {
   "cell_type": "code",
   "execution_count": null,
   "source": [
    "sns.pairplot(df, hue='Region')\r\n"
   ],
   "outputs": [],
   "metadata": {}
  },
  {
   "cell_type": "markdown",
   "source": [
    "\r\n",
    "[3] Based on the segment¶"
   ],
   "metadata": {}
  },
  {
   "cell_type": "code",
   "execution_count": null,
   "source": [
    "sns.pairplot(df, hue='Segment')\r\n"
   ],
   "outputs": [],
   "metadata": {}
  },
  {
   "cell_type": "code",
   "execution_count": null,
   "source": [
    "df.corr()\r\n"
   ],
   "outputs": [],
   "metadata": {}
  },
  {
   "cell_type": "markdown",
   "source": [
    "Heatmap for Correlation"
   ],
   "metadata": {}
  },
  {
   "cell_type": "code",
   "execution_count": null,
   "source": [
    "sns.heatmap(df.corr(), cmap='rocket_r', annot=True)\r\n"
   ],
   "outputs": [],
   "metadata": {}
  },
  {
   "cell_type": "markdown",
   "source": [
    "\r\n",
    "From above Heatmap:\r\n",
    "\r\n",
    "Sales and Profit are Moderately Correlated.\r\n",
    "Discount and Profit are Negatively Correlated\r\n",
    "Quantity and Profit are less Moderately Correlated.\r\n"
   ],
   "metadata": {}
  },
  {
   "cell_type": "markdown",
   "source": [
    "Count plot of each column"
   ],
   "metadata": {}
  },
  {
   "cell_type": "code",
   "execution_count": null,
   "source": [
    "fig, axs = plt.subplots(nrows=2, ncols=2, figsize=(10, 7))\r\n",
    "\r\n",
    "sns.countplot(df['Category'], ax=axs[0][0])\r\n",
    "sns.countplot(df['Segment'], ax=axs[0][1])\r\n",
    "sns.countplot(df['Ship Mode'], ax=axs[1][0])\r\n",
    "sns.countplot(df['Region'], ax=axs[1][1])\r\n",
    "axs[0][0].set_title('Category', fontsize=20)\r\n",
    "axs[0][1].set_title('Segment', fontsize=20)\r\n",
    "axs[1][0].set_title('Ship Mode', fontsize=20)\r\n",
    "axs[1][1].set_title('Region', fontsize=20)\r\n",
    "\r\n",
    "\r\n",
    "plt.tight_layout()\r\n"
   ],
   "outputs": [],
   "metadata": {}
  },
  {
   "cell_type": "code",
   "execution_count": null,
   "source": [
    "plt.figure(figsize=(20, 8))\r\n",
    "sns.countplot(df['Sub-Category'])\r\n",
    "plt.title('Sub-Category', fontsize=20)\r\n"
   ],
   "outputs": [],
   "metadata": {}
  },
  {
   "cell_type": "code",
   "execution_count": null,
   "source": [
    "\r\n",
    "plt.figure(figsize=(18, 5))\r\n",
    "sns.countplot(df['State'])\r\n",
    "plt.xticks(rotation=90)\r\n",
    "plt.title('State', fontsize=20)\r\n"
   ],
   "outputs": [],
   "metadata": {}
  },
  {
   "cell_type": "code",
   "execution_count": null,
   "source": [
    "plt.figure(figsize=(18, 5))\r\n",
    "sns.countplot(df['Quantity'])\r\n",
    "plt.title('Quantity', fontsize=20)\r\n"
   ],
   "outputs": [],
   "metadata": {}
  },
  {
   "cell_type": "code",
   "execution_count": null,
   "source": [
    "plt.figure(figsize=(18, 5))\r\n",
    "sns.countplot(df['Discount'])\r\n",
    "plt.xticks(rotation=90)\r\n",
    "plt.title('Discount', fontsize=20)\r\n"
   ],
   "outputs": [],
   "metadata": {}
  },
  {
   "cell_type": "markdown",
   "source": [
    "Distribution of the data using the plot"
   ],
   "metadata": {}
  },
  {
   "cell_type": "code",
   "execution_count": null,
   "source": [
    "fig, axs = plt.subplots(ncols=2, nrows=2, figsize=(10, 10))\r\n",
    "sns.distplot(df['Sales'], color='red',  ax=axs[0][0])\r\n",
    "sns.distplot(df['Profit'], color='green',  ax=axs[0][1])\r\n",
    "sns.distplot(df['Quantity'], color='orange',  ax=axs[1][0])\r\n",
    "sns.distplot(df['Discount'], color='blue',  ax=axs[1][1])\r\n",
    "axs[0][0].set_title('Sales Distribution', fontsize=20)\r\n",
    "axs[0][1].set_title('Profit Distribution', fontsize=20)\r\n",
    "axs[1][0].set_title('Quantity distribution', fontsize=20)\r\n",
    "axs[1][1].set_title('Discount Distribution', fontsize=20)\r\n",
    "plt.show()\r\n"
   ],
   "outputs": [],
   "metadata": {}
  },
  {
   "cell_type": "markdown",
   "source": [
    "Statewise Deal Analysis"
   ],
   "metadata": {}
  },
  {
   "cell_type": "code",
   "execution_count": null,
   "source": [
    "\r\n",
    "df['Country'].value_counts()\r\n"
   ],
   "outputs": [],
   "metadata": {}
  },
  {
   "cell_type": "code",
   "execution_count": null,
   "source": [
    "df1 = df['State'].value_counts()\r\n",
    "df1.head(10)\r\n"
   ],
   "outputs": [],
   "metadata": {}
  },
  {
   "cell_type": "code",
   "execution_count": null,
   "source": [
    "\r\n",
    "df1.plot(kind='bar', figsize=(15, 5))\r\n",
    "plt.ylabel('Frequency / Number of deals')\r\n",
    "plt.xlabel('States')\r\n",
    "\r\n",
    "plt.title('State Wise Dealings', fontsize=20)\r\n",
    "plt.show()\r\n"
   ],
   "outputs": [],
   "metadata": {}
  },
  {
   "cell_type": "code",
   "execution_count": null,
   "source": [
    "df['City'].value_counts().mean()\r\n"
   ],
   "outputs": [],
   "metadata": {}
  },
  {
   "cell_type": "markdown",
   "source": [
    "Segment wise analysis of Profit, Discount and sell"
   ],
   "metadata": {}
  },
  {
   "cell_type": "code",
   "execution_count": null,
   "source": [
    "\r\n",
    "df['Segment'].value_counts()\r\n"
   ],
   "outputs": [],
   "metadata": {}
  },
  {
   "cell_type": "code",
   "execution_count": null,
   "source": [
    "df_segment = df.groupby(['Segment'])[['Sales', 'Discount', 'Profit']].mean()\r\n",
    "df_segment\r\n"
   ],
   "outputs": [],
   "metadata": {}
  },
  {
   "cell_type": "code",
   "execution_count": null,
   "source": [
    "#1. sales 2. Discount 3. Profit\r\n",
    "df_segment.plot.pie(subplots=True,\r\n",
    "                    autopct='%1.1f%%',\r\n",
    "                    figsize=(18, 20),\r\n",
    "                    startangle=90,     # start angle 90° (Africa)\r\n",
    "                    shadow=True,\r\n",
    "                    labels=df_segment.index)\r\n",
    "plt.title('Segment wise analysis of Sale, Discount, profit')\r\n"
   ],
   "outputs": [],
   "metadata": {}
  },
  {
   "cell_type": "code",
   "execution_count": null,
   "source": [
    "df['State'].value_counts().head(10)\r\n"
   ],
   "outputs": [],
   "metadata": {}
  },
  {
   "cell_type": "code",
   "execution_count": null,
   "source": [
    "df_state = df.groupby(['State'])[['Sales', 'Discount', 'Profit']].mean()\r\n",
    "df_state.head(10)\r\n"
   ],
   "outputs": [],
   "metadata": {}
  },
  {
   "cell_type": "code",
   "execution_count": null,
   "source": [
    "df_state1 = df_state.sort_values('Profit')\r\n",
    "\r\n",
    "df_state1[['Profit']].plot(kind='bar', figsize=(15, 4))\r\n",
    "plt.title('State wise Profit Analysis', fontsize=20)\r\n",
    "plt.ylabel('Profit per Sate')\r\n",
    "plt.xlabel('States')\r\n",
    "plt.show()\r\n"
   ],
   "outputs": [],
   "metadata": {}
  },
  {
   "cell_type": "code",
   "execution_count": null,
   "source": [
    "\r\n",
    "df_state['Sales'].plot(kind='pie',\r\n",
    "                       figsize=(20, 20),\r\n",
    "                       autopct='%1.1f%%',\r\n",
    "                       startangle=90,     # start angle 90° (Africa)\r\n",
    "                       shadow=True)\r\n",
    "plt.title('State wise analysis of Sale', fontsize=20)\r\n"
   ],
   "outputs": [],
   "metadata": {}
  },
  {
   "cell_type": "code",
   "execution_count": null,
   "source": [
    "df_state1['Discount'].plot(kind='bar', figsize=(18, 5))\r\n",
    "plt.title('State wise analysis of Discount', fontsize=20)"
   ],
   "outputs": [],
   "metadata": {}
  },
  {
   "cell_type": "code",
   "execution_count": null,
   "source": [
    "\r\n",
    "Citywise Analysis of the Profit\r\n"
   ],
   "outputs": [],
   "metadata": {}
  },
  {
   "cell_type": "code",
   "execution_count": null,
   "source": [
    "df_city = df.groupby(['City'])[['Sales', 'Discount', 'Profit']].mean()\r\n",
    "df_city = df_city.sort_values('Profit')\r\n",
    "df_city.head()\r\n"
   ],
   "outputs": [],
   "metadata": {}
  },
  {
   "cell_type": "code",
   "execution_count": null,
   "source": [
    "#1.Low Profit\r\n",
    "df_city['Profit'].head(30).plot(kind='bar', figsize=(15, 5), color='Pink')\r\n",
    "plt.title('City wise analysis of Sale, Discount, profit')\r\n"
   ],
   "outputs": [],
   "metadata": {}
  },
  {
   "cell_type": "code",
   "execution_count": null,
   "source": [
    "\r\n",
    "#2. High Profit\r\n",
    "df_city['Profit'].tail(30).plot(kind='bar', figsize=(15, 5), color='Pink')\r\n",
    "plt.title('City wise analysis of Sale, Discount, profit')\r\n"
   ],
   "outputs": [],
   "metadata": {}
  },
  {
   "cell_type": "markdown",
   "source": [
    "QUANTITY WISE SALES, PROFIT AND DISCOUNT ANALYSIS"
   ],
   "metadata": {}
  },
  {
   "cell_type": "code",
   "execution_count": null,
   "source": [
    "df_quantity = df.groupby(['Quantity'])[['Sales', 'Discount', 'Profit']].mean()\r\n",
    "df_quantity.head(10)\r\n"
   ],
   "outputs": [],
   "metadata": {}
  },
  {
   "cell_type": "code",
   "execution_count": null,
   "source": [
    "#1. sales 2. Discount 3. Profit\r\n",
    "df_quantity.plot.pie(subplots=True,\r\n",
    "                     autopct='%1.1f%%',\r\n",
    "                     figsize=(20, 20),\r\n",
    "                     pctdistance=0.69,\r\n",
    "                     startangle=90,     # start angle 90° (Africa)\r\n",
    "                     shadow=True,\r\n",
    "                     labels=df_quantity.index)\r\n",
    "plt.title('Quantity wise analysis of Sale, Discount, profit')\r\n"
   ],
   "outputs": [],
   "metadata": {}
  },
  {
   "cell_type": "markdown",
   "source": [
    "\r\n",
    "CATAGORY WISE SALES DISCOUNT AND PROFIT"
   ],
   "metadata": {}
  },
  {
   "cell_type": "code",
   "execution_count": null,
   "source": [
    "df_category = df.groupby(['Category'])[['Sales', 'Discount', 'Profit']].mean()\r\n",
    "df_category\r\n"
   ],
   "outputs": [],
   "metadata": {}
  },
  {
   "cell_type": "code",
   "execution_count": null,
   "source": [
    "df_category.plot.pie(subplots=True,\r\n",
    "                     figsize=(18, 20),\r\n",
    "                     autopct='%1.1f%%',\r\n",
    "                     labels=df_category.index)\r\n"
   ],
   "outputs": [],
   "metadata": {}
  },
  {
   "cell_type": "markdown",
   "source": [
    "Sub-Category wise Sales, Profit and Discount"
   ],
   "metadata": {}
  },
  {
   "cell_type": "code",
   "execution_count": null,
   "source": [
    "df_sub_category = df.groupby(\r\n",
    "    ['Sub-Category'])[['Sales', 'Discount', 'Profit']].mean()\r\n",
    "df_sub_category.head(10)\r\n"
   ],
   "outputs": [],
   "metadata": {}
  },
  {
   "cell_type": "markdown",
   "source": [
    "\r\n",
    "[1] BASED ON THE SALES"
   ],
   "metadata": {}
  },
  {
   "cell_type": "code",
   "execution_count": null,
   "source": [
    "plt.figure(figsize=(15, 15))\r\n",
    "plt.pie(df_sub_category['Sales'],\r\n",
    "        labels=df_sub_category.index, autopct='%1.1f%%')\r\n",
    "plt.title('Sub-Category Wise Sales Analysis', fontsize=20)\r\n",
    "plt.legend()\r\n",
    "plt.xticks(rotation=90)\r\n",
    "plt.show()\r\n"
   ],
   "outputs": [],
   "metadata": {}
  },
  {
   "cell_type": "markdown",
   "source": [
    "\r\n",
    "[2] BASED ON THE DISCOUNT"
   ],
   "metadata": {}
  },
  {
   "cell_type": "code",
   "execution_count": null,
   "source": [
    "plt.figure(figsize=(15, 15))\r\n",
    "plt.pie(df_sub_category['Discount'],\r\n",
    "        labels=df_sub_category.index, autopct='%1.1f%%')\r\n",
    "plt.title('Sub-Category Wise Discount Analysis', fontsize=20)\r\n",
    "plt.legend()\r\n",
    "plt.xticks(rotation=90)\r\n",
    "plt.show()\r\n"
   ],
   "outputs": [],
   "metadata": {}
  },
  {
   "cell_type": "markdown",
   "source": [
    "3] BASED ON THE PROFIT\r\n"
   ],
   "metadata": {}
  },
  {
   "cell_type": "code",
   "execution_count": null,
   "source": [
    "df_sub_category.sort_values('Profit')[['Sales', 'Profit']].plot(kind='bar',\r\n",
    "                                                                figsize=(\r\n",
    "                                                                    10, 5),\r\n",
    "                                                                label=['Avg Sales Price($)', 'Profit($)'])\r\n"
   ],
   "outputs": [],
   "metadata": {}
  },
  {
   "cell_type": "markdown",
   "source": [
    "\r\n",
    "REGION WISE ANALYSIS"
   ],
   "metadata": {}
  },
  {
   "cell_type": "code",
   "execution_count": null,
   "source": [
    "df_region = df.groupby(['Region'])[['Sales', 'Discount', 'Profit']].mean()\r\n",
    "df_region\r\n"
   ],
   "outputs": [],
   "metadata": {}
  },
  {
   "cell_type": "code",
   "execution_count": null,
   "source": [
    "df_region.plot.pie(subplots=True,\r\n",
    "                   figsize=(18, 20),\r\n",
    "                   autopct='%1.1f%%',\r\n",
    "                   labels=df_region.index)\r\n"
   ],
   "outputs": [],
   "metadata": {}
  },
  {
   "cell_type": "markdown",
   "source": [
    "SHIP MODE WISE ANALYSIS"
   ],
   "metadata": {}
  },
  {
   "cell_type": "code",
   "execution_count": null,
   "source": [
    "\r\n",
    "df['Ship Mode'].value_counts()\r\n"
   ],
   "outputs": [],
   "metadata": {}
  },
  {
   "cell_type": "code",
   "execution_count": null,
   "source": [
    "df_shipmode = df.groupby(['Ship Mode'])[['Sales', 'Discount', 'Profit']].mean()\r\n"
   ],
   "outputs": [],
   "metadata": {}
  },
  {
   "cell_type": "code",
   "execution_count": null,
   "source": [
    "\r\n",
    "df_shipmode.plot.pie(subplots=True,\r\n",
    "                     figsize=(18, 20),\r\n",
    "                     autopct='%1.1f%%',\r\n",
    "                     labels=df_shipmode.index)\r\n"
   ],
   "outputs": [],
   "metadata": {}
  },
  {
   "cell_type": "markdown",
   "source": [
    "\r\n",
    "RESULT AND CONCLUSION\r\n",
    "Profit is more than that of sale but there are some areas where profit could be increased.\r\n",
    "\r\n",
    "Profit and Discount is high in First Class\r\n",
    "\r\n",
    "Sales is high for Same day ship\r\n",
    "\r\n",
    "Sub-category: Copier: High Profit & sales\r\n",
    "\r\n",
    "Sub-category: Binders , Machines and then tables have high Discount.\r\n",
    "\r\n",
    "Category: Maximun sales and Profit obtain in Technology.\r\n",
    "\r\n",
    "Category: Minimun profit obtain in Furniture\r\n",
    "\r\n",
    "State: Vermont: Highest Profit\r\n",
    "\r\n",
    "State: Ohio: Lowest Profit\r\n",
    "\r\n",
    "Segment: Home-office: High Profit & sales\r\n",
    "\r\n",
    "Here is top 3 city where deals are Highest.\r\n",
    "\r\n",
    "New York City\r\n",
    "\r\n",
    "Los Angeles\r\n",
    "\r\n",
    "Philadelphia\r\n",
    "\r\n",
    "Sales and Profit are Moderately Correlated.\r\n",
    "\r\n",
    "Quantity and Profit are less Moderately Correlated.\r\n",
    "\r\n",
    "Discount and Profit are Negatively Correlated\r\n",
    "\r\n",
    "Here is top 3 state where deals are Highest.\r\n",
    "\r\n",
    "Califonia\r\n",
    "\r\n",
    "New York\r\n",
    "\r\n",
    "Texas\r\n",
    "\r\n",
    "Wyoming : Lowest Number of deal,Highest amount of sales= Wyoming(11.8%)\r\n",
    "\r\n",
    "Lowest amount of sales= South Dakota(0.8%)"
   ],
   "metadata": {}
  }
 ],
 "metadata": {
  "orig_nbformat": 4,
  "language_info": {
   "name": "python",
   "version": "3.8.3",
   "mimetype": "text/x-python",
   "codemirror_mode": {
    "name": "ipython",
    "version": 3
   },
   "pygments_lexer": "ipython3",
   "nbconvert_exporter": "python",
   "file_extension": ".py"
  },
  "kernelspec": {
   "name": "python3",
   "display_name": "Python 3.8.3 64-bit"
  },
  "interpreter": {
   "hash": "9ce43836c8d3287a06e199a1efd6974587c1d8c7cdf961feda0708cd09e2869c"
  }
 },
 "nbformat": 4,
 "nbformat_minor": 2
}